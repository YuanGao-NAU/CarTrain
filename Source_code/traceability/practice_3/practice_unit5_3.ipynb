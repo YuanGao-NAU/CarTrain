{
 "cells": [
  {
   "cell_type": "code",
   "execution_count": 139,
   "metadata": {},
   "outputs": [],
   "source": [
    "import numpy as np\n",
    "import pandas as pd\n",
    "from matplotlib import pyplot as plt\n",
    "from GeneralModel import GeneralModel"
   ]
  },
  {
   "cell_type": "code",
   "execution_count": 140,
   "metadata": {},
   "outputs": [],
   "source": [
    "df1 = pd.read_csv(\"./Source_code/traceability/practice_1/TECO_amb.csv\", usecols=[\"Scaler1\"])\n",
    "df2 = pd.read_csv(\"./Source_code/traceability/practice_1/TECO_eco2.csv\", usecols=[\"Scaler1\"])\n",
    "xi1 = df1.values.reshape(df1.shape[0])\n",
    "xi2 = df2.values.reshape(df2.shape[0])\n"
   ]
  },
  {
   "cell_type": "code",
   "execution_count": 141,
   "metadata": {},
   "outputs": [],
   "source": [
    "df3 = pd.read_csv(\"./Source_code/traceability/practice_1/matrix_A_K.csv\", usecols=[\"A_1\", \"A_2\", \"A_3\", \"A_4\", \"A_5\", \"A_6\", \"A_7\", \"A_8\"])\n",
    "tmp = df3.values\n",
    "matrix_A = -tmp"
   ]
  },
  {
   "cell_type": "code",
   "execution_count": 142,
   "metadata": {},
   "outputs": [],
   "source": [
    "df4 = pd.read_csv(\"./Source_code/traceability/practice_1/matrix_A_K.csv\", usecols=[\"K_1\", \"K_2\", \"K_3\", \"K_4\", \"K_5\", \"K_6\", \"K_7\", \"K_8\"])\n",
    "matrix_K = df4.values"
   ]
  },
  {
   "cell_type": "code",
   "execution_count": 143,
   "metadata": {},
   "outputs": [],
   "source": [
    "df5 = pd.read_csv(\"./Source_code/traceability/practice_1/matrix_A_K.csv\", usecols=[\"B\"])\n",
    "B = df5.values"
   ]
  },
  {
   "cell_type": "code",
   "execution_count": 144,
   "metadata": {
    "scrolled": true
   },
   "outputs": [],
   "source": [
    "init_pool_sizes = np.array([189.1422677,189.1422677,5129.556399,115.5794802,\n",
    "                            742.8968061,102.9411519,5561.097498,8727.271319]).reshape([8])\n",
    "# init_pool_sizes = np.array([0,0,0,0,0,0,0,0]).reshape([8])"
   ]
  },
  {
   "cell_type": "code",
   "execution_count": 145,
   "metadata": {},
   "outputs": [],
   "source": [
    "df6 = pd.read_csv(\"./Source_code/traceability/practice_1/input/Forcing_SPRUCE_400ppm_Daily.csv\", usecols=[\"GPP\"])\n",
    "GPP1 = df6.values.reshape(2922)\n",
    "df7 = pd.read_csv(\"./Source_code/traceability/practice_1/input/Forcing_SPRUCE_900ppm_Daily.csv\", usecols=[\"GPP\"])\n",
    "GPP2 = df7.values.reshape(2922)\n",
    "date = pd.read_csv(\"./Source_code/traceability/practice_1/input/Forcing_SPRUCE_900ppm_Daily.csv\", usecols=[\"Date\"])"
   ]
  },
  {
   "cell_type": "code",
   "execution_count": 146,
   "metadata": {},
   "outputs": [],
   "source": [
    "times = np.arange(0, 2922, 1)"
   ]
  },
  {
   "cell_type": "code",
   "execution_count": 147,
   "metadata": {},
   "outputs": [],
   "source": [
    "mod1 = GeneralModel(times, B, matrix_A, matrix_K, init_pool_sizes, GPP1, xi1)\n",
    "res1 = mod1.get_x_df()\n",
    "#mod1.write_output(\"./output.csv\")\n",
    "res1[\"Date\"] = date[\"Date\"]\n",
    "res1['Date']=pd.to_datetime(res1['Date'],format=\"%Y-%m-%d\")\n",
    "res1.set_index(\"Date\", inplace=True)\n",
    "#res1_yearly = res1.resample('AS').sum().to_period('A')\n",
    "res1_yearly = res1.resample('A').mean()\n",
    "res1_yearly_values = res1_yearly.values\n",
    "#res1_yearly_values / 365\n",
    "tmp1 = pd.DataFrame(res1_yearly_values)\n",
    "tmp1.columns = res1_yearly.columns\n",
    "tmp1.index = res1_yearly.index"
   ]
  },
  {
   "cell_type": "code",
   "execution_count": 148,
   "metadata": {},
   "outputs": [],
   "source": [
    "mod2 = GeneralModel(times, B, matrix_A, matrix_K, init_pool_sizes, GPP2, xi2)\n",
    "res2 = mod2.get_x_df()\n",
    "res2[\"Date\"] = date[\"Date\"]\n",
    "res2['Date']=pd.to_datetime(res2['Date'],format=\"%Y-%m-%d\")\n",
    "res2.set_index(\"Date\", inplace=True)\n",
    "#res2_yearly = res2.resample('AS').sum().to_period('A')\n",
    "res2_yearly = res2.resample('A').mean()\n",
    "res2_yearly_values = res2_yearly.values\n",
    "#res2_yearly_values / 365\n",
    "tmp2 = pd.DataFrame(res2_yearly_values)\n",
    "tmp2.columns = res2_yearly.columns\n",
    "tmp2.index = res2_yearly.index"
   ]
  },
  {
   "cell_type": "code",
   "execution_count": 150,
   "metadata": {},
   "outputs": [],
   "source": [
    "ref_amb = np.zeros([8,8])\n",
    "pools = [\"Foliage\", \"Root\", \"Wood\", \"Fine_litter\", \"CWD\", \"Fast_SOC\", \"Slow_SOC\", \"Passive_SOC\"]\n",
    "df_tmp1 = pd.read_csv(\"./Source_code/traceability/practice_1/traceability_yr.csv\")\n",
    "df_tmp1 = df_tmp[(df_tmp1.Model == \"TECO\")]\n",
    "df_tmp1 = df_tmp1[df_tmp1.Treatment == \"amb\"]\n",
    "for i in range(len(pools)):\n",
    "    df_tmp2 = df_tmp1[df_tmp1.Pool == pools[i]]\n",
    "    ref_amb[:, i] = df_tmp2.X.values\n",
    "    "
   ]
  },
  {
   "cell_type": "code",
   "execution_count": 151,
   "metadata": {},
   "outputs": [],
   "source": [
    "ref_eco2 = np.zeros([8,8])\n",
    "pools = [\"Foliage\", \"Root\", \"Wood\", \"Fine_litter\", \"CWD\", \"Fast_SOC\", \"Slow_SOC\", \"Passive_SOC\"]\n",
    "df_tmp1 = pd.read_csv(\"./Source_code/traceability/practice_1/traceability_yr.csv\")\n",
    "df_tmp1 = df_tmp[(df_tmp1.Model == \"TECO\")]\n",
    "df_tmp1 = df_tmp1[df_tmp1.Treatment == \"eco2\"]\n",
    "for i in range(len(pools)):\n",
    "    df_tmp2 = df_tmp1[df_tmp1.Pool == pools[i]]\n",
    "    ref_eco2[:, i] = df_tmp2.X.values"
   ]
  },
  {
   "cell_type": "code",
   "execution_count": 152,
   "metadata": {},
   "outputs": [],
   "source": [
    "pools = [\"X1\", \"X2\", \"X3\", \"X4\", \"X5\", \"X6\", \"X7\", \"X8\"]\n",
    "\n",
    "mod_amb = pd.DataFrame(tmp1, columns=pools).values\n",
    "mod_eco2 = pd.DataFrame(tmp2, columns=pools).values"
   ]
  },
  {
   "cell_type": "code",
   "execution_count": 153,
   "metadata": {},
   "outputs": [],
   "source": [
    "bias_amb = np.abs(np.mean(mod_amb, axis = 0) - np.mean(ref_amb, axis = 0))\n",
    "aver_ref_amb = np.mean(ref_amb, axis = 0)\n",
    "aver_mod_amb = np.mean(mod_amb, axis = 0)\n",
    "aver_ref_amb_mat = np.zeros([8,8])\n",
    "aver_mod_amb_mat = np.zeros([8,8])\n",
    "for i in range(0,8):\n",
    "    aver_ref_amb_mat[i] = aver_ref_amb\n",
    "    aver_mod_amb_mat[i] = aver_mod_amb\n",
    "crms_amb = np.sqrt((ref_amb - aver_ref_amb_mat) * (ref_amb - aver_ref_amb_mat)/8)"
   ]
  },
  {
   "cell_type": "code",
   "execution_count": 154,
   "metadata": {},
   "outputs": [],
   "source": [
    "crms_amb = np.sum(crms_amb, axis = 0)\n"
   ]
  },
  {
   "cell_type": "code",
   "execution_count": 155,
   "metadata": {},
   "outputs": [],
   "source": [
    "sigma_bias = bias_amb/crms_amb\n",
    "s_bias_amb = np.sum(np.exp(-sigma_bias))/8"
   ]
  },
  {
   "cell_type": "code",
   "execution_count": 156,
   "metadata": {},
   "outputs": [],
   "source": [
    "rmse_amb = np.sqrt((mod_amb - ref_amb) * (mod_amb - ref_amb)/8)\n",
    "crmse_amb = np.sqrt((((mod_amb - aver_mod_amb_mat) - (ref_amb - aver_ref_amb_mat)) * ((mod_amb - aver_mod_amb_mat) - (ref_amb - aver_ref_amb_mat)))/8)"
   ]
  },
  {
   "cell_type": "code",
   "execution_count": 157,
   "metadata": {},
   "outputs": [],
   "source": [
    "crmse_amb = np.sum(crmse_amb, axis = 0)"
   ]
  },
  {
   "cell_type": "code",
   "execution_count": 158,
   "metadata": {},
   "outputs": [],
   "source": [
    "sigma_rmse_amb = crmse_amb/crms_amb"
   ]
  },
  {
   "cell_type": "code",
   "execution_count": 159,
   "metadata": {},
   "outputs": [],
   "source": [
    "s_rmse_amb = np.sum(np.exp(-sigma_rmse_amb))/8"
   ]
  },
  {
   "cell_type": "code",
   "execution_count": 169,
   "metadata": {},
   "outputs": [],
   "source": [
    "s_total_amb = (s_bias_amb + 2 * s_rmse_amb) / 3"
   ]
  },
  {
   "cell_type": "code",
   "execution_count": 160,
   "metadata": {},
   "outputs": [],
   "source": [
    "bias_eco2 = np.abs(np.mean(mod_eco2, axis = 0) - np.mean(ref_eco2, axis = 0))\n",
    "aver_ref_eco2 = np.mean(ref_eco2, axis = 0)\n",
    "aver_mod_eco2 = np.mean(mod_eco2, axis = 0)\n",
    "aver_ref_eco2_mat = np.zeros([8,8])\n",
    "aver_mod_eco2_mat = np.zeros([8,8])\n",
    "for i in range(0,8):\n",
    "    aver_ref_eco2_mat[i] = aver_ref_eco2\n",
    "    aver_mod_eco2_mat[i] = aver_mod_eco2\n",
    "crms_eco2 = np.sqrt((ref_eco2 - aver_ref_eco2_mat) * (ref_eco2 - aver_ref_eco2_mat)/8)"
   ]
  },
  {
   "cell_type": "code",
   "execution_count": 161,
   "metadata": {},
   "outputs": [],
   "source": [
    "crms_eco2 = np.sum(crms_eco2, axis = 0)"
   ]
  },
  {
   "cell_type": "code",
   "execution_count": 162,
   "metadata": {},
   "outputs": [],
   "source": [
    "sigma_bias = bias_eco2/crms_eco2\n",
    "s_bias_eco2 = np.sum(np.exp(-sigma_bias))/8"
   ]
  },
  {
   "cell_type": "code",
   "execution_count": 163,
   "metadata": {},
   "outputs": [],
   "source": [
    "rmse_eco2 = np.sqrt((mod_eco2 - ref_eco2) * (mod_eco2 - ref_eco2)/8)\n",
    "crmse_eco2 = np.sqrt((((mod_eco2 - aver_mod_eco2_mat) - (ref_eco2 - aver_ref_eco2_mat)) * ((mod_eco2 - aver_mod_eco2_mat) - (ref_eco2 - aver_ref_eco2_mat)))/8)"
   ]
  },
  {
   "cell_type": "code",
   "execution_count": 164,
   "metadata": {},
   "outputs": [],
   "source": [
    "crmse_eco2 = np.sum(crmse_eco2, axis = 0)"
   ]
  },
  {
   "cell_type": "code",
   "execution_count": 165,
   "metadata": {},
   "outputs": [],
   "source": [
    "sigma_rmse_eco2 = crmse_eco2/crms_eco2"
   ]
  },
  {
   "cell_type": "code",
   "execution_count": 166,
   "metadata": {},
   "outputs": [],
   "source": [
    "s_rmse_eco2 = np.sum(np.exp(-sigma_rmse_eco2))/8"
   ]
  },
  {
   "cell_type": "code",
   "execution_count": 167,
   "metadata": {},
   "outputs": [],
   "source": [
    "s_total_eco2 = (s_bias_eco2 + 2 * s_rmse_eco2) / 3"
   ]
  },
  {
   "cell_type": "code",
   "execution_count": 170,
   "metadata": {},
   "outputs": [
    {
     "data": {
      "text/plain": [
       "0.6609518623115775"
      ]
     },
     "execution_count": 170,
     "metadata": {},
     "output_type": "execute_result"
    }
   ],
   "source": [
    "s_total_amb"
   ]
  },
  {
   "cell_type": "code",
   "execution_count": 171,
   "metadata": {},
   "outputs": [
    {
     "data": {
      "text/plain": [
       "0.736497169696256"
      ]
     },
     "execution_count": 171,
     "metadata": {},
     "output_type": "execute_result"
    }
   ],
   "source": [
    "s_total_eco2"
   ]
  },
  {
   "cell_type": "code",
   "execution_count": 176,
   "metadata": {},
   "outputs": [
    {
     "data": {
      "text/plain": [
       "Text(0, 0.5, 'Score (0~1)')"
      ]
     },
     "execution_count": 176,
     "metadata": {},
     "output_type": "execute_result"
    },
    {
     "data": {
      "image/png": "[encoded data removed]",
      "text/plain": [
       "<Figure size 432x288 with 1 Axes>"
      ]
     },
     "metadata": {
      "needs_background": "light"
     },
     "output_type": "display_data"
    }
   ],
   "source": [
    "# Plot the scores\n",
    "name_list = [\"$S_{total}$\", \"$S_{bias}$\", \"$S_{rmse}$\"]\n",
    "num_list = [s_total_amb, s_bias_amb, s_rmse_amb]\n",
    "num_list1 = [s_total_eco2, s_bias_eco2, s_rmse_eco2]\n",
    "x =list(range(len(num_list)))\n",
    "total_width, n = 0.8, 2\n",
    "width = total_width / n\n",
    " \n",
    "plt.bar(x, num_list, width=width, label='amb',fc = 'black')\n",
    "for i in range(len(x)):\n",
    "    x[i] = x[i] + width\n",
    "plt.bar(x, num_list1, width=width, label='eCO2',tick_label = name_list,fc = 'gray')\n",
    "plt.legend()\n",
    "plt.ylabel(\"Score (0~1)\")"
   ]
  },
  {
   "cell_type": "code",
   "execution_count": null,
   "metadata": {},
   "outputs": [],
   "source": []
  }
 ],
 "metadata": {
  "kernelspec": {
   "display_name": "Python 3",
   "language": "python",
   "name": "python3"
  },
  "language_info": {
   "codemirror_mode": {
    "name": "ipython",
    "version": 3
   },
   "file_extension": ".py",
   "mimetype": "text/x-python",
   "name": "python",
   "nbconvert_exporter": "python",
   "pygments_lexer": "ipython3",
   "version": "3.7.9"
  }
 },
 "nbformat": 4,
 "nbformat_minor": 4
}
